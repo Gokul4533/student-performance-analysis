{
  "nbformat": 4,
  "nbformat_minor": 0,
  "metadata": {
    "colab": {
      "provenance": []
    },
    "kernelspec": {
      "name": "python3",
      "display_name": "Python 3"
    },
    "language_info": {
      "name": "python"
    }
  },
  "cells": [
    {
      "cell_type": "code",
      "execution_count": 1,
      "metadata": {
        "colab": {
          "base_uri": "https://localhost:8080/",
          "height": 73
        },
        "id": "TaxXkvMOX9lE",
        "outputId": "76a80a65-9b89-4ca6-ffcf-4f25b6529597"
      },
      "outputs": [
        {
          "output_type": "display_data",
          "data": {
            "text/plain": [
              "<IPython.core.display.HTML object>"
            ],
            "text/html": [
              "\n",
              "     <input type=\"file\" id=\"files-2b44f453-07b0-44df-999a-5287b011070a\" name=\"files[]\" multiple disabled\n",
              "        style=\"border:none\" />\n",
              "     <output id=\"result-2b44f453-07b0-44df-999a-5287b011070a\">\n",
              "      Upload widget is only available when the cell has been executed in the\n",
              "      current browser session. Please rerun this cell to enable.\n",
              "      </output>\n",
              "      <script>// Copyright 2017 Google LLC\n",
              "//\n",
              "// Licensed under the Apache License, Version 2.0 (the \"License\");\n",
              "// you may not use this file except in compliance with the License.\n",
              "// You may obtain a copy of the License at\n",
              "//\n",
              "//      http://www.apache.org/licenses/LICENSE-2.0\n",
              "//\n",
              "// Unless required by applicable law or agreed to in writing, software\n",
              "// distributed under the License is distributed on an \"AS IS\" BASIS,\n",
              "// WITHOUT WARRANTIES OR CONDITIONS OF ANY KIND, either express or implied.\n",
              "// See the License for the specific language governing permissions and\n",
              "// limitations under the License.\n",
              "\n",
              "/**\n",
              " * @fileoverview Helpers for google.colab Python module.\n",
              " */\n",
              "(function(scope) {\n",
              "function span(text, styleAttributes = {}) {\n",
              "  const element = document.createElement('span');\n",
              "  element.textContent = text;\n",
              "  for (const key of Object.keys(styleAttributes)) {\n",
              "    element.style[key] = styleAttributes[key];\n",
              "  }\n",
              "  return element;\n",
              "}\n",
              "\n",
              "// Max number of bytes which will be uploaded at a time.\n",
              "const MAX_PAYLOAD_SIZE = 100 * 1024;\n",
              "\n",
              "function _uploadFiles(inputId, outputId) {\n",
              "  const steps = uploadFilesStep(inputId, outputId);\n",
              "  const outputElement = document.getElementById(outputId);\n",
              "  // Cache steps on the outputElement to make it available for the next call\n",
              "  // to uploadFilesContinue from Python.\n",
              "  outputElement.steps = steps;\n",
              "\n",
              "  return _uploadFilesContinue(outputId);\n",
              "}\n",
              "\n",
              "// This is roughly an async generator (not supported in the browser yet),\n",
              "// where there are multiple asynchronous steps and the Python side is going\n",
              "// to poll for completion of each step.\n",
              "// This uses a Promise to block the python side on completion of each step,\n",
              "// then passes the result of the previous step as the input to the next step.\n",
              "function _uploadFilesContinue(outputId) {\n",
              "  const outputElement = document.getElementById(outputId);\n",
              "  const steps = outputElement.steps;\n",
              "\n",
              "  const next = steps.next(outputElement.lastPromiseValue);\n",
              "  return Promise.resolve(next.value.promise).then((value) => {\n",
              "    // Cache the last promise value to make it available to the next\n",
              "    // step of the generator.\n",
              "    outputElement.lastPromiseValue = value;\n",
              "    return next.value.response;\n",
              "  });\n",
              "}\n",
              "\n",
              "/**\n",
              " * Generator function which is called between each async step of the upload\n",
              " * process.\n",
              " * @param {string} inputId Element ID of the input file picker element.\n",
              " * @param {string} outputId Element ID of the output display.\n",
              " * @return {!Iterable<!Object>} Iterable of next steps.\n",
              " */\n",
              "function* uploadFilesStep(inputId, outputId) {\n",
              "  const inputElement = document.getElementById(inputId);\n",
              "  inputElement.disabled = false;\n",
              "\n",
              "  const outputElement = document.getElementById(outputId);\n",
              "  outputElement.innerHTML = '';\n",
              "\n",
              "  const pickedPromise = new Promise((resolve) => {\n",
              "    inputElement.addEventListener('change', (e) => {\n",
              "      resolve(e.target.files);\n",
              "    });\n",
              "  });\n",
              "\n",
              "  const cancel = document.createElement('button');\n",
              "  inputElement.parentElement.appendChild(cancel);\n",
              "  cancel.textContent = 'Cancel upload';\n",
              "  const cancelPromise = new Promise((resolve) => {\n",
              "    cancel.onclick = () => {\n",
              "      resolve(null);\n",
              "    };\n",
              "  });\n",
              "\n",
              "  // Wait for the user to pick the files.\n",
              "  const files = yield {\n",
              "    promise: Promise.race([pickedPromise, cancelPromise]),\n",
              "    response: {\n",
              "      action: 'starting',\n",
              "    }\n",
              "  };\n",
              "\n",
              "  cancel.remove();\n",
              "\n",
              "  // Disable the input element since further picks are not allowed.\n",
              "  inputElement.disabled = true;\n",
              "\n",
              "  if (!files) {\n",
              "    return {\n",
              "      response: {\n",
              "        action: 'complete',\n",
              "      }\n",
              "    };\n",
              "  }\n",
              "\n",
              "  for (const file of files) {\n",
              "    const li = document.createElement('li');\n",
              "    li.append(span(file.name, {fontWeight: 'bold'}));\n",
              "    li.append(span(\n",
              "        `(${file.type || 'n/a'}) - ${file.size} bytes, ` +\n",
              "        `last modified: ${\n",
              "            file.lastModifiedDate ? file.lastModifiedDate.toLocaleDateString() :\n",
              "                                    'n/a'} - `));\n",
              "    const percent = span('0% done');\n",
              "    li.appendChild(percent);\n",
              "\n",
              "    outputElement.appendChild(li);\n",
              "\n",
              "    const fileDataPromise = new Promise((resolve) => {\n",
              "      const reader = new FileReader();\n",
              "      reader.onload = (e) => {\n",
              "        resolve(e.target.result);\n",
              "      };\n",
              "      reader.readAsArrayBuffer(file);\n",
              "    });\n",
              "    // Wait for the data to be ready.\n",
              "    let fileData = yield {\n",
              "      promise: fileDataPromise,\n",
              "      response: {\n",
              "        action: 'continue',\n",
              "      }\n",
              "    };\n",
              "\n",
              "    // Use a chunked sending to avoid message size limits. See b/62115660.\n",
              "    let position = 0;\n",
              "    do {\n",
              "      const length = Math.min(fileData.byteLength - position, MAX_PAYLOAD_SIZE);\n",
              "      const chunk = new Uint8Array(fileData, position, length);\n",
              "      position += length;\n",
              "\n",
              "      const base64 = btoa(String.fromCharCode.apply(null, chunk));\n",
              "      yield {\n",
              "        response: {\n",
              "          action: 'append',\n",
              "          file: file.name,\n",
              "          data: base64,\n",
              "        },\n",
              "      };\n",
              "\n",
              "      let percentDone = fileData.byteLength === 0 ?\n",
              "          100 :\n",
              "          Math.round((position / fileData.byteLength) * 100);\n",
              "      percent.textContent = `${percentDone}% done`;\n",
              "\n",
              "    } while (position < fileData.byteLength);\n",
              "  }\n",
              "\n",
              "  // All done.\n",
              "  yield {\n",
              "    response: {\n",
              "      action: 'complete',\n",
              "    }\n",
              "  };\n",
              "}\n",
              "\n",
              "scope.google = scope.google || {};\n",
              "scope.google.colab = scope.google.colab || {};\n",
              "scope.google.colab._files = {\n",
              "  _uploadFiles,\n",
              "  _uploadFilesContinue,\n",
              "};\n",
              "})(self);\n",
              "</script> "
            ]
          },
          "metadata": {}
        },
        {
          "output_type": "stream",
          "name": "stdout",
          "text": [
            "Saving student_scores.csv to student_scores.csv\n"
          ]
        }
      ],
      "source": [
        "from google.colab import files\n",
        "uploaded = files.upload()\n"
      ]
    },
    {
      "cell_type": "code",
      "source": [
        "import pandas as pd\n",
        "\n",
        "# Load CSV file into DataFrame\n",
        "df = pd.read_csv('student_scores.csv')\n",
        "\n",
        "# Show first 5 rows to see the data\n",
        "print(df.head())\n"
      ],
      "metadata": {
        "colab": {
          "base_uri": "https://localhost:8080/"
        },
        "id": "us9KN0a0Ylbp",
        "outputId": "764c772b-1871-4c43-dea7-5c5d5c15cbd4"
      },
      "execution_count": 2,
      "outputs": [
        {
          "output_type": "stream",
          "name": "stdout",
          "text": [
            "    Name  Math  English  Science\n",
            "0   Amit    78       82       85\n",
            "1   Sara    88       91       94\n",
            "2  Gokul    95       89       90\n",
            "3   Nina    69       76       70\n",
            "4    Raj    84       87       80\n"
          ]
        }
      ]
    },
    {
      "cell_type": "code",
      "source": [
        "print(\"Average Math score:\", df['Math'].mean())\n",
        "print(\"Highest English score:\", df['English'].max())\n",
        "print(\"Minimum Science score:\", df['Science'].min())\n",
        "print(\"Total number of students:\", df['Name'].count())\n"
      ],
      "metadata": {
        "colab": {
          "base_uri": "https://localhost:8080/"
        },
        "id": "o1Nb85UMYvpv",
        "outputId": "f230eb57-ccae-4a94-890a-049cf3c6d0ca"
      },
      "execution_count": 3,
      "outputs": [
        {
          "output_type": "stream",
          "name": "stdout",
          "text": [
            "Average Math score: 82.8\n",
            "Highest English score: 91\n",
            "Minimum Science score: 70\n",
            "Total number of students: 5\n"
          ]
        }
      ]
    },
    {
      "cell_type": "code",
      "source": [
        "# Calculate average scores for each subject\n",
        "math_avg = df['Math'].mean()\n",
        "english_avg = df['English'].mean()\n",
        "science_avg = df['Science'].mean()\n",
        "\n",
        "# Find highest and lowest scores in each subject\n",
        "math_max = df['Math'].max()\n",
        "english_max = df['English'].max()\n",
        "science_max = df['Science'].max()\n",
        "\n",
        "math_min = df['Math'].min()\n",
        "english_min = df['English'].min()\n",
        "science_min = df['Science'].min()\n",
        "\n",
        "# Total number of students\n",
        "total_students = df['Name'].count()\n",
        "\n",
        "# Print the results\n",
        "print(f\"Total students: {total_students}\")\n",
        "print(f\"Math: avg={math_avg}, max={math_max}, min={math_min}\")\n",
        "print(f\"English: avg={english_avg}, max={english_max}, min={english_min}\")\n",
        "print(f\"Science: avg={science_avg}, max={science_max}, min={science_min}\")\n"
      ],
      "metadata": {
        "colab": {
          "base_uri": "https://localhost:8080/"
        },
        "id": "zhsjAo98Y3Rk",
        "outputId": "4537b35e-0d20-449b-d9ab-5debbe18a70c"
      },
      "execution_count": 4,
      "outputs": [
        {
          "output_type": "stream",
          "name": "stdout",
          "text": [
            "Total students: 5\n",
            "Math: avg=82.8, max=95, min=69\n",
            "English: avg=85.0, max=91, min=76\n",
            "Science: avg=83.8, max=94, min=70\n"
          ]
        }
      ]
    },
    {
      "cell_type": "code",
      "source": [
        "import matplotlib.pyplot as plt\n",
        "\n",
        "# Prepare data for plotting\n",
        "subjects = ['Math', 'English', 'Science']\n",
        "averages = [math_avg, english_avg, science_avg]\n",
        "max_scores = [math_max, english_max, science_max]\n",
        "min_scores = [math_min, english_min, science_min]\n",
        "\n",
        "# Bar chart for average scores\n",
        "plt.figure(figsize=(8,5))\n",
        "plt.bar(subjects, averages, color='skyblue')\n",
        "plt.title('Average Scores by Subject')\n",
        "plt.ylabel('Average Score')\n",
        "plt.ylim(0, 100)\n",
        "plt.show()\n",
        "\n",
        "# Bar chart for max and min scores side by side\n",
        "import numpy as np\n",
        "x = np.arange(len(subjects))\n",
        "width = 0.35\n",
        "\n",
        "plt.figure(figsize=(8,5))\n",
        "plt.bar(x - width/2, max_scores, width, label='Max', color='green')\n",
        "plt.bar(x + width/2, min_scores, width, label='Min', color='red')\n",
        "\n",
        "plt.xticks(x, subjects)\n",
        "plt.ylabel('Scores')\n",
        "plt.title('Max and Min Scores by Subject')\n",
        "plt.legend()\n",
        "plt.ylim(0, 100)\n",
        "plt.show()\n"
      ],
      "metadata": {
        "colab": {
          "base_uri": "https://localhost:8080/",
          "height": 919
        },
        "id": "t7n68HxzZGO2",
        "outputId": "b7466b78-f28b-4c02-88ad-dd19b64c9531"
      },
      "execution_count": 5,
      "outputs": [
        {
          "output_type": "display_data",
          "data": {
            "text/plain": [
              "<Figure size 800x500 with 1 Axes>"
            ],
            "image/png": "[encoded data removed]"
          },
          "metadata": {}
        },
        {
          "output_type": "display_data",
          "data": {
            "text/plain": [
              "<Figure size 800x500 with 1 Axes>"
            ],
            "image/png": "[encoded data removed]"
          },
          "metadata": {}
        }
      ]
    },
    {
      "cell_type": "code",
      "source": [
        "report = f\"\"\"\n",
        "Student Performance Analysis Report\n",
        "\n",
        "Total Students: {total_students}\n",
        "\n",
        "Average Scores:\n",
        "- Math: {math_avg:.2f}\n",
        "- English: {english_avg:.2f}\n",
        "- Science: {science_avg:.2f}\n",
        "\n",
        "Score Ranges:\n",
        "- Math: {math_min} (min) to {math_max} (max)\n",
        "- English: {english_min} (min) to {english_max} (max)\n",
        "- Science: {science_min} (min) to {science_max} (max)\n",
        "\n",
        "Observations:\n",
        "- The highest average score is in English.\n",
        "- Math has the widest score range.\n",
        "- Overall, students performed consistently across subjects.\n",
        "\n",
        "This analysis can help identify areas where students need extra support.\n",
        "\"\"\"\n",
        "\n",
        "print(report)\n"
      ],
      "metadata": {
        "colab": {
          "base_uri": "https://localhost:8080/"
        },
        "id": "-N1n2_v9ZYX_",
        "outputId": "1db2a4bd-9ceb-4f9c-bab2-88939bbae20f"
      },
      "execution_count": 6,
      "outputs": [
        {
          "output_type": "stream",
          "name": "stdout",
          "text": [
            "\n",
            "Student Performance Analysis Report\n",
            "\n",
            "Total Students: 5\n",
            "\n",
            "Average Scores:\n",
            "- Math: 82.80\n",
            "- English: 85.00\n",
            "- Science: 83.80\n",
            "\n",
            "Score Ranges:\n",
            "- Math: 69 (min) to 95 (max)\n",
            "- English: 76 (min) to 91 (max)\n",
            "- Science: 70 (min) to 94 (max)\n",
            "\n",
            "Observations:\n",
            "- The highest average score is in English.\n",
            "- Math has the widest score range.\n",
            "- Overall, students performed consistently across subjects.\n",
            "\n",
            "This analysis can help identify areas where students need extra support.\n",
            "\n"
          ]
        }
      ]
    },
    {
      "cell_type": "code",
      "source": [],
      "metadata": {
        "id": "2D7RVSvSZmw1"
      },
      "execution_count": null,
      "outputs": []
    }
  ]
}